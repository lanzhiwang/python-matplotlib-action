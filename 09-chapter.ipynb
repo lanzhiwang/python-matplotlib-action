{
 "cells": [
  {
   "cell_type": "markdown",
   "id": "29e7ad20-5b4e-4da4-a4e1-e28d57d564bc",
   "metadata": {},
   "source": [
    "# 《python 数据可视化之 matplotlib 实践》\n",
    "\n",
    "## 设置线条类型和标记类型的显示样式\n",
    "\n",
    "![overview](overview.png)"
   ]
  },
  {
   "cell_type": "code",
   "execution_count": 1,
   "id": "b3d77b36-36df-4003-9ea0-3e01675fe1d0",
   "metadata": {},
   "outputs": [],
   "source": [
    "import matplotlib.pyplot as plt\n",
    "import matplotlib\n",
    "import numpy as np"
   ]
  },
  {
   "cell_type": "code",
   "execution_count": 2,
   "id": "d35553a7-6b97-41b6-b2e7-90170c5b4398",
   "metadata": {},
   "outputs": [
    {
     "data": {
      "text/plain": [
       "'3.10.0'"
      ]
     },
     "execution_count": 2,
     "metadata": {},
     "output_type": "execute_result"
    }
   ],
   "source": [
    "matplotlib.__version__"
   ]
  },
  {
   "cell_type": "code",
   "execution_count": 3,
   "id": "950452b0-c854-4f15-87e2-e0f1f85fd39b",
   "metadata": {},
   "outputs": [],
   "source": [
    "%matplotlib inline"
   ]
  },
  {
   "cell_type": "code",
   "execution_count": null,
   "id": "0de1db69-f460-4c80-afad-0eb477dad1b7",
   "metadata": {},
   "outputs": [],
   "source": []
  }
 ],
 "metadata": {
  "kernelspec": {
   "display_name": "Python 3 (ipykernel)",
   "language": "python",
   "name": "python3"
  },
  "language_info": {
   "codemirror_mode": {
    "name": "ipython",
    "version": 3
   },
   "file_extension": ".py",
   "mimetype": "text/x-python",
   "name": "python",
   "nbconvert_exporter": "python",
   "pygments_lexer": "ipython3",
   "version": "3.11.6"
  }
 },
 "nbformat": 4,
 "nbformat_minor": 5
}
