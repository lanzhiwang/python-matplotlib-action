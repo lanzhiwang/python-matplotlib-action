{
 "cells": [
  {
   "cell_type": "markdown",
   "id": "4ff22929-0d80-4241-a18f-856293745575",
   "metadata": {},
   "source": [
    "# 《python 数据可视化之 matplotlib 实践》\n",
    "\n",
    "## 文本属性设置\n",
    "\n",
    "![overview](overview.png)"
   ]
  },
  {
   "cell_type": "code",
   "execution_count": 1,
   "id": "018dbc4d-4ee1-44a3-8381-df54ca5d99b8",
   "metadata": {},
   "outputs": [],
   "source": [
    "import matplotlib.pyplot as plt\n",
    "import matplotlib\n",
    "import numpy as np"
   ]
  },
  {
   "cell_type": "code",
   "execution_count": 2,
   "id": "c626e9b9-6afb-495a-ab52-1f25aeef7747",
   "metadata": {},
   "outputs": [
    {
     "data": {
      "text/plain": [
       "'3.10.0'"
      ]
     },
     "execution_count": 2,
     "metadata": {},
     "output_type": "execute_result"
    }
   ],
   "source": [
    "matplotlib.__version__"
   ]
  },
  {
   "cell_type": "code",
   "execution_count": 3,
   "id": "9161beb8-4b25-4f6c-b608-22d54bd338af",
   "metadata": {},
   "outputs": [],
   "source": [
    "%matplotlib inline"
   ]
  },
  {
   "cell_type": "code",
   "execution_count": null,
   "id": "68cc9ab1-fae3-4c8c-a475-ecc256faa767",
   "metadata": {},
   "outputs": [],
   "source": []
  }
 ],
 "metadata": {
  "kernelspec": {
   "display_name": "Python 3 (ipykernel)",
   "language": "python",
   "name": "python3"
  },
  "language_info": {
   "codemirror_mode": {
    "name": "ipython",
    "version": 3
   },
   "file_extension": ".py",
   "mimetype": "text/x-python",
   "name": "python",
   "nbconvert_exporter": "python",
   "pygments_lexer": "ipython3",
   "version": "3.11.6"
  }
 },
 "nbformat": 4,
 "nbformat_minor": 5
}
