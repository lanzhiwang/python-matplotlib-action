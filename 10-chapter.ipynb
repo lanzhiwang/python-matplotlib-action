{
 "cells": [
  {
   "cell_type": "markdown",
   "id": "34531025-ee26-4f37-96b7-10d2dc55e483",
   "metadata": {},
   "source": [
    "# 《python 数据可视化之 matplotlib 实践》\n",
    "\n",
    "## matplotlib 配置\n",
    "\n",
    "![overview](overview.png)"
   ]
  },
  {
   "cell_type": "code",
   "execution_count": null,
   "id": "683fa823-bd2d-4d15-a63f-24b2a54b5b2a",
   "metadata": {},
   "outputs": [],
   "source": [
    "import matplotlib.pyplot as plt\n",
    "import matplotlib\n",
    "import numpy as np"
   ]
  },
  {
   "cell_type": "code",
   "execution_count": null,
   "id": "36b337c9-418b-4e24-b9a2-bd08892f440d",
   "metadata": {},
   "outputs": [],
   "source": [
    "matplotlib.__version__"
   ]
  },
  {
   "cell_type": "code",
   "execution_count": null,
   "id": "dd3b766a-0f1f-4e26-b8ed-7936d7cddd4c",
   "metadata": {},
   "outputs": [],
   "source": [
    "%matplotlib inline"
   ]
  },
  {
   "cell_type": "markdown",
   "id": "d663f7f5-e864-424a-8712-ce020bdb75d6",
   "metadata": {},
   "source": [
    "### 恢复标准的 matplotlib 配置\n",
    "\n",
    "- matplotlib.rcdefaults()\n",
    "- plt.rcdefaults()"
   ]
  },
  {
   "cell_type": "code",
   "execution_count": null,
   "id": "8d25c3bc-94c1-49c6-add9-32007dc959df",
   "metadata": {},
   "outputs": [],
   "source": [
    "matplotlib.rcdefaults()"
   ]
  },
  {
   "cell_type": "code",
   "execution_count": null,
   "id": "5e1dcee0-b4ef-484a-a9a2-39b7fcfda1e1",
   "metadata": {},
   "outputs": [],
   "source": [
    "plt.rcdefaults()"
   ]
  },
  {
   "cell_type": "markdown",
   "id": "870146a9-8955-48c4-92e3-b989a1d60c68",
   "metadata": {},
   "source": [
    "### 查看 matplotlib 配置\n",
    "\n",
    "- matplotlib.rcParams 字典\n",
    "- plt.rcParams 字典"
   ]
  },
  {
   "cell_type": "code",
   "execution_count": null,
   "id": "3e5a2cfc-ff0b-4ce5-8a2a-35e45d135e68",
   "metadata": {},
   "outputs": [],
   "source": [
    "matplotlib.rcParams"
   ]
  },
  {
   "cell_type": "code",
   "execution_count": null,
   "id": "9fc445fa-87c6-4710-b38d-91c7efcb72b6",
   "metadata": {},
   "outputs": [],
   "source": [
    "plt.rcParams"
   ]
  },
  {
   "cell_type": "markdown",
   "id": "376002a3-e3da-457c-81ee-0b4a24f8595c",
   "metadata": {},
   "source": [
    "### 修改 matplotlib 配置\n",
    "\n",
    "- 修改 matplotlib.rcParams 字典\n",
    "- 修改 plt.rcParams 字典\n",
    "- matplotlib.rc()\n",
    "- plt.rc()"
   ]
  },
  {
   "cell_type": "code",
   "execution_count": null,
   "id": "fef45200-feee-4045-bb0e-83d98da4a238",
   "metadata": {},
   "outputs": [],
   "source": [
    "# 'lines.linestyle': '-',\n",
    "# 'lines.linewidth': 1.5,\n",
    "matplotlib.rc(\"lines\", linestyle=\"--\", linewidth=2)"
   ]
  },
  {
   "cell_type": "code",
   "execution_count": null,
   "id": "709b8b69-95a2-47bd-b69a-f7c10873b7f6",
   "metadata": {},
   "outputs": [],
   "source": [
    "matplotlib.rcParams[\"lines.linewidth\"] = 3"
   ]
  },
  {
   "cell_type": "markdown",
   "id": "cd06bf73-6eb4-4345-af69-2158898d3ea9",
   "metadata": {},
   "source": [
    "### matplotlib 配置文件路径"
   ]
  },
  {
   "cell_type": "code",
   "execution_count": null,
   "id": "dfa4ae9a-d164-4c8d-b99f-e3ccccb0c3b7",
   "metadata": {},
   "outputs": [],
   "source": [
    "matplotlib.get_configdir()"
   ]
  },
  {
   "cell_type": "code",
   "execution_count": null,
   "id": "37e008cb-f63e-4eb8-b4e7-5a29ceac80c6",
   "metadata": {},
   "outputs": [],
   "source": [
    "matplotlib.matplotlib_fname()"
   ]
  },
  {
   "cell_type": "code",
   "execution_count": null,
   "id": "62b24a6c-497d-4e93-9446-2ad044615051",
   "metadata": {},
   "outputs": [],
   "source": [
    "!ls -al /home/jovyan/.config/matplotlib"
   ]
  },
  {
   "cell_type": "code",
   "execution_count": null,
   "id": "b9b36625-1a2b-4943-875c-186c0f65b9fa",
   "metadata": {},
   "outputs": [],
   "source": [
    "!ls -al /opt/conda/lib/python3.11/site-packages/matplotlib/mpl-data/matplotlibrc"
   ]
  },
  {
   "cell_type": "code",
   "execution_count": null,
   "id": "9786ed93-9538-495b-8ac4-0cba2c3828f7",
   "metadata": {},
   "outputs": [],
   "source": [
    "!cat /opt/conda/lib/python3.11/site-packages/matplotlib/mpl-data/matplotlibrc"
   ]
  },
  {
   "cell_type": "markdown",
   "id": "90469aa4-55fd-4930-b90c-b78742bbbc72",
   "metadata": {},
   "source": [
    "### matplotlibrc 配置文件"
   ]
  },
  {
   "cell_type": "code",
   "execution_count": null,
   "id": "ad34f9d8-185a-41d9-bbb2-028d429e9205",
   "metadata": {},
   "outputs": [],
   "source": []
  }
 ],
 "metadata": {
  "kernelspec": {
   "display_name": "Python 3 (ipykernel)",
   "language": "python",
   "name": "python3"
  },
  "language_info": {
   "codemirror_mode": {
    "name": "ipython",
    "version": 3
   },
   "file_extension": ".py",
   "mimetype": "text/x-python",
   "name": "python",
   "nbconvert_exporter": "python",
   "pygments_lexer": "ipython3",
   "version": "3.11.6"
  }
 },
 "nbformat": 4,
 "nbformat_minor": 5
}
