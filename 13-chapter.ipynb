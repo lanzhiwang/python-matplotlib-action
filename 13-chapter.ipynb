{
 "cells": [
  {
   "cell_type": "markdown",
   "id": "cbf4e53a-340d-4713-b405-76d731474af7",
   "metadata": {},
   "source": [
    "# 《python 数据可视化之 matplotlib 实践》\n",
    "\n",
    "## 图形的展示和保存\n",
    "\n",
    "![overview](overview.png)"
   ]
  },
  {
   "cell_type": "code",
   "execution_count": 1,
   "id": "1e0ff1be-4168-44e3-881f-002d1bcd2b6f",
   "metadata": {},
   "outputs": [],
   "source": [
    "import matplotlib.pyplot as plt\n",
    "import matplotlib\n",
    "import numpy as np"
   ]
  },
  {
   "cell_type": "code",
   "execution_count": 2,
   "id": "e47921a8-2f67-4e93-b616-5353d7f4831b",
   "metadata": {},
   "outputs": [
    {
     "data": {
      "text/plain": [
       "'3.10.0'"
      ]
     },
     "execution_count": 2,
     "metadata": {},
     "output_type": "execute_result"
    }
   ],
   "source": [
    "matplotlib.__version__"
   ]
  },
  {
   "cell_type": "code",
   "execution_count": 3,
   "id": "7ffa616a-8fd2-40b8-bc83-21b5c433b8c9",
   "metadata": {},
   "outputs": [],
   "source": [
    "%matplotlib inline"
   ]
  }
 ],
 "metadata": {
  "kernelspec": {
   "display_name": "Python 3 (ipykernel)",
   "language": "python",
   "name": "python3"
  },
  "language_info": {
   "codemirror_mode": {
    "name": "ipython",
    "version": 3
   },
   "file_extension": ".py",
   "mimetype": "text/x-python",
   "name": "python",
   "nbconvert_exporter": "python",
   "pygments_lexer": "ipython3",
   "version": "3.11.6"
  }
 },
 "nbformat": 4,
 "nbformat_minor": 5
}
